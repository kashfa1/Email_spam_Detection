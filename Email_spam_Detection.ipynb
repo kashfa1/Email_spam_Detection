{
  "nbformat": 4,
  "nbformat_minor": 0,
  "metadata": {
    "colab": {
      "provenance": []
    },
    "kernelspec": {
      "name": "python3",
      "display_name": "Python 3"
    },
    "language_info": {
      "name": "python"
    }
  },
  "cells": [
    {
      "cell_type": "code",
      "execution_count": 1,
      "metadata": {
        "colab": {
          "base_uri": "https://localhost:8080/"
        },
        "id": "_8SiwzNW-Kc-",
        "outputId": "1a3cc19a-9687-47b6-bfd1-8d70c7872c2e"
      },
      "outputs": [
        {
          "output_type": "stream",
          "name": "stdout",
          "text": [
            "  label                                               text\n",
            "0   ham  Go until jurong point, crazy.. Available only ...\n",
            "1   ham                      Ok lar... Joking wif u oni...\n",
            "2  spam  Free entry in 2 a wkly comp to win FA Cup fina...\n",
            "3   ham  U dun say so early hor... U c already then say...\n",
            "4   ham  Nah I don't think he goes to usf, he lives aro...\n",
            "Accuracy: 0.9838565022421525\n",
            "Confusion Matrix:\n",
            " [[963   2]\n",
            " [ 16 134]]\n",
            "Classification Report:\n",
            "               precision    recall  f1-score   support\n",
            "\n",
            "         ham       0.98      1.00      0.99       965\n",
            "        spam       0.99      0.89      0.94       150\n",
            "\n",
            "    accuracy                           0.98      1115\n",
            "   macro avg       0.98      0.95      0.96      1115\n",
            "weighted avg       0.98      0.98      0.98      1115\n",
            "\n"
          ]
        }
      ],
      "source": [
        "import pandas as pd\n",
        "\n",
        "# Load the CSV file with ISO-8859-1 encoding\n",
        "file_path = '/content/spam.csv'\n",
        "spam_data = pd.read_csv(file_path, encoding='ISO-8859-1')\n",
        "\n",
        "# Remove unnecessary columns and rename the remaining ones\n",
        "spam_data = spam_data[['v1', 'v2']]\n",
        "spam_data.columns = ['label', 'text']\n",
        "\n",
        "# Display the first few rows of the cleaned dataframe\n",
        "print(spam_data.head())\n",
        "\n",
        "# Additional steps for building and training the spam detector\n",
        "# Import necessary libraries for machine learning\n",
        "from sklearn.model_selection import train_test_split\n",
        "from sklearn.feature_extraction.text import CountVectorizer\n",
        "from sklearn.naive_bayes import MultinomialNB\n",
        "from sklearn.metrics import accuracy_score, confusion_matrix, classification_report\n",
        "\n",
        "# Split the data into training and testing sets\n",
        "X_train, X_test, y_train, y_test = train_test_split(spam_data['text'], spam_data['label'], test_size=0.2, random_state=42)\n",
        "\n",
        "# Convert the text data into numerical data using CountVectorizer\n",
        "vectorizer = CountVectorizer()\n",
        "X_train_counts = vectorizer.fit_transform(X_train)\n",
        "X_test_counts = vectorizer.transform(X_test)\n",
        "\n",
        "# Train the Multinomial Naive Bayes classifier\n",
        "clf = MultinomialNB()\n",
        "clf.fit(X_train_counts, y_train)\n",
        "\n",
        "# Predict the labels for the test set\n",
        "y_pred = clf.predict(X_test_counts)\n",
        "\n",
        "# Evaluate the model\n",
        "print('Accuracy:', accuracy_score(y_test, y_pred))\n",
        "print('Confusion Matrix:\\n', confusion_matrix(y_test, y_pred))\n",
        "print('Classification Report:\\n', classification_report(y_test, y_pred))\n"
      ]
    }
  ]
}